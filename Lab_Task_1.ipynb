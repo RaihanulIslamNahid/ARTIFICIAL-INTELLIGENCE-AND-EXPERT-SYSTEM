{
 "cells": [
  {
   "cell_type": "markdown",
   "id": "e9d236e1",
   "metadata": {},
   "source": [
    "# Shift Left"
   ]
  },
  {
   "cell_type": "code",
   "execution_count": null,
   "id": "392e6984",
   "metadata": {},
   "outputs": [],
   "source": [
    "def shiftLeft(source, k):\n",
    "    n = len(source)\n",
    "\n",
    "    for i in range(n - k):\n",
    "        source[i] = source[i + k]\n",
    "\n",
    "    for i in range(n - k, n):\n",
    "        source[i] = 0\n",
    "\n",
    "\n",
    "source = [10, 20, 30, 40, 50, 60]\n",
    "shiftLeft(source, 3)\n",
    "print(source)"
   ]
  },
  {
   "cell_type": "markdown",
   "id": "04d78a4e",
   "metadata": {},
   "source": [
    "# Rotate Left k cells"
   ]
  },
  {
   "cell_type": "code",
   "execution_count": 5,
   "id": "a41cc2a6",
   "metadata": {},
   "outputs": [
    {
     "name": "stdout",
     "output_type": "stream",
     "text": [
      "[40, 50, 60, 10, 20, 30]\n"
     ]
    }
   ],
   "source": [
    "def rotateLeft(source, k):\n",
    "    n = len(source)\n",
    "    k = k % n\n",
    "    rotated = source[k:] + source[:k]\n",
    "    for i in range(n):\n",
    "        source[i] = rotated[i]\n",
    "\n",
    "source = [10, 20, 30, 40, 50, 60]\n",
    "rotateLeft(source, 3)\n",
    "print(source)"
   ]
  },
  {
   "cell_type": "markdown",
   "id": "3862fb9f",
   "metadata": {},
   "source": [
    "# Remove an element from an array"
   ]
  },
  {
   "cell_type": "code",
   "execution_count": 8,
   "id": "585820f9",
   "metadata": {},
   "outputs": [
    {
     "name": "stdout",
     "output_type": "stream",
     "text": [
      "[10, 20, 40, 50, 0, 0, 0]\n"
     ]
    }
   ],
   "source": [
    "def remove(source, size, idx):\n",
    "    if idx < 0 or idx >= size:\n",
    "        return\n",
    "    for i in range(idx, size - 1):\n",
    "        source[i] = source[i + 1]\n",
    "    source[size - 1] = 0\n",
    "\n",
    "source = [10, 20, 30, 40, 50, 0, 0]\n",
    "size = 5  \n",
    "idx = 2  \n",
    "remove(source, size, idx)\n",
    "print(source)\n",
    "#Remove 30"
   ]
  },
  {
   "cell_type": "markdown",
   "id": "15b09e86",
   "metadata": {},
   "source": [
    "# Remove all occurrences of a particular element from an array"
   ]
  },
  {
   "cell_type": "code",
   "execution_count": 9,
   "id": "1064e710",
   "metadata": {},
   "outputs": [
    {
     "name": "stdout",
     "output_type": "stream",
     "text": [
      "[10, 30, 50, 0, 0, 0, 0, 0, 0]\n"
     ]
    }
   ],
   "source": [
    "def removeAll(source, size, element):\n",
    "    i = 0\n",
    "    while i < size:\n",
    "        if source[i] == element:\n",
    "            for j in range(i, size - 1):\n",
    "                source[j] = source[j + 1]\n",
    "            source[size - 1] = 0\n",
    "            size -= 1\n",
    "        else:\n",
    "            i += 1\n",
    "\n",
    "source = [10, 2, 30, 2, 50, 2, 2, 0, 0]\n",
    "size = 7 \n",
    "element = 2 \n",
    "removeAll(source, size, element)\n",
    "print(source)\n"
   ]
  },
  {
   "cell_type": "code",
   "execution_count": null,
   "id": "c8d8c0e9",
   "metadata": {},
   "outputs": [],
   "source": []
  }
 ],
 "metadata": {
  "kernelspec": {
   "display_name": "Python 3 (ipykernel)",
   "language": "python",
   "name": "python3"
  },
  "language_info": {
   "codemirror_mode": {
    "name": "ipython",
    "version": 3
   },
   "file_extension": ".py",
   "mimetype": "text/x-python",
   "name": "python",
   "nbconvert_exporter": "python",
   "pygments_lexer": "ipython3",
   "version": "3.11.5"
  }
 },
 "nbformat": 4,
 "nbformat_minor": 5
}
